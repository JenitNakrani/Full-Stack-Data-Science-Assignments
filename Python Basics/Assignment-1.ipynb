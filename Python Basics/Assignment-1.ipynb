{
 "cells": [
  {
   "cell_type": "raw",
   "id": "b3bb49f5",
   "metadata": {
    "raw_mimetype": "text/markdown"
   },
   "source": [
    " 1. In the below elements which of them are values or an expression? eg:- values can be integer or string and expressions will be mathematical operators.\n",
    "\n",
    "*\n",
    "\n",
    "'hello'\n",
    "\n",
    "-87.8\n",
    "\n",
    "-\n",
    "\n",
    "/\n",
    "\n",
    "+\n",
    "\n",
    "6"
   ]
  },
  {
   "cell_type": "code",
   "execution_count": null,
   "id": "bf0107f7",
   "metadata": {},
   "outputs": [],
   "source": [
    "Ans :- \n",
    "\n",
    "*       => Expression\n",
    "\n",
    "'hello' => Value\n",
    "\n",
    "-87.8   => Value\n",
    "\n",
    "-       => Expression\n",
    "\n",
    "/       => Expression\n",
    "\n",
    "+       => Expression\n",
    "\n",
    "6       => Value"
   ]
  },
  {
   "cell_type": "raw",
   "id": "0381047c",
   "metadata": {},
   "source": [
    "2.What is the difference between string and variable?"
   ]
  },
  {
   "cell_type": "code",
   "execution_count": null,
   "id": "9f13979a",
   "metadata": {},
   "outputs": [],
   "source": [
    "Variable \n",
    "\n",
    "-> Variable is a reserved memory location to store various types of data like integer,string,boolean,etc.\n",
    "\n",
    "String\n",
    "\n",
    "-> String is a type of data we would store in a variable,It is a type of Variable data."
   ]
  },
  {
   "cell_type": "raw",
   "id": "1470bafb",
   "metadata": {},
   "source": [
    "3.Describe three different data types."
   ]
  },
  {
   "cell_type": "code",
   "execution_count": null,
   "id": "01741131",
   "metadata": {},
   "outputs": [],
   "source": [
    "1. Integers\n",
    "    \n",
    "    -> It contains positive or negative whole numbers without fractions.\n",
    "        ex:-  10,-5,0\n",
    "\n",
    "2. Float\n",
    "\n",
    "    -> It represents floating point number(contain decimal point)\n",
    "        ex. -134.5, 9.999 etc.\n",
    "        \n",
    "    -> It also represent scientific numbers with an \"e\" or \"E\" to indicate the power of 10.\n",
    "        ex. 5e4, 9E7, -199e5 etc.\n",
    "        \n",
    "3.Complex\n",
    "\n",
    "    -> It is represented as (RealPart)+(ImaginaryPart)j\n",
    "        ex:-  -3+5j , 4-5j\n",
    "\n",
    "4. Boolean\n",
    "    \n",
    "    -> It contains two value True or False.\n",
    "    -> True means 1 and False means 0.\n",
    "\n",
    "5. String\n",
    "\n",
    "    -> String is a sequence of characters and put sequence of character in single or double quotes.\n",
    "    -> String is immutable means cannot change the element of given string.\n",
    "    ex:- \"Full Stack Data Science\",'Full Stack Data Science',\"It's full stack data science course.\"\n",
    "\n",
    "6. List\n",
    "\n",
    "    -> List items are ordered , mutable(can change element of List).\n",
    "    -> List represented in square brackets.\n",
    "    -> It is flexible because items in a list do not need to be the same datatypes.\n",
    "    -> List items are indexed,to access first element myList[0],second element myList[1]\n",
    "    ex:-\n",
    "        myList = [1,1.5,2+4j,True,\"Python\",[\"hello\",4],(\"hello\",5),{\"key1\":1,\"key2\":2},{1,2,3,4,5}]\n",
    "        \n",
    "7. Tuple \n",
    "\n",
    "    -> Tuple items are ordered and immutable (cannot change element of Tuple).\n",
    "    -> Tuple represented in round brackets.\n",
    "    -> It is flexible because items in a tuple do not need to be the same datatypes.\n",
    "    -> Tuple items are indexed,to access first element myTuple[0],second element myTuple[1]\n",
    "    ex:-\n",
    "        myTuple = (1,1.5,2+4j,True,\"Python\",[\"hello\",4],(\"hello\",5),{\"key1\":1,\"key2\":2},{1,2,3,4,5})\n",
    "        \n",
    "8. Set\n",
    "\n",
    "    -> Set items are unordered and immutable(cannot change element of Set).\n",
    "    -> Set do not store duplicate values.\n",
    "    -> Set epresented in curly brackets.\n",
    "    ex:-\n",
    "        mySet = {1,2.5,\"hello\"}\n",
    "\n",
    "9. Dictionary\n",
    "\n",
    "    -> Dictionary are ordered, mutable(can change element in dictionary).\n",
    "    -> Dictionary store data values in key:value pairs.\n",
    "    -> Dictionary do not allowed duplicate keys.\n",
    "    ex:-\n",
    "        myDict = {\n",
    "            \"Course\" : \"Full Stack Data Science\",\n",
    "            \"Batch\" : 2023\n",
    "        }"
   ]
  },
  {
   "cell_type": "raw",
   "id": "67f554e9",
   "metadata": {},
   "source": [
    "4. What is an expression made up of? What do all expressions do?"
   ]
  },
  {
   "cell_type": "code",
   "execution_count": null,
   "id": "ee0c091c",
   "metadata": {},
   "outputs": [],
   "source": [
    "-> Expression is made up of operators and operands and it interpreted to produce some value.\n",
    "-> It is evaluated as per the precedence of its operator if there is more than one operator in an expression."
   ]
  },
  {
   "cell_type": "raw",
   "id": "5f94bfe7",
   "metadata": {},
   "source": [
    "5. This assignment statements, like spam = 10. What is the difference between an expression and a statement?"
   ]
  },
  {
   "cell_type": "code",
   "execution_count": null,
   "id": "b59e465c",
   "metadata": {},
   "outputs": [],
   "source": [
    "spam=10\n",
    "    -> It is a statement.\n",
    "-> Expression is made up of values, containers, operands.\n",
    "    ex: Sum = 10+5*2 \n",
    "-> The statement is just like a command that a python interpreter executes like print.\n",
    "    ex: spam = 10 , print(\"Hello there!\")"
   ]
  },
  {
   "cell_type": "raw",
   "id": "7c23a3ac",
   "metadata": {},
   "source": [
    "6. After running the following code, what does the variable bacon contain?\n",
    "    bacon = 22\n",
    "    bacon + 1"
   ]
  },
  {
   "cell_type": "code",
   "execution_count": null,
   "id": "7fa92fbb",
   "metadata": {},
   "outputs": [],
   "source": [
    "-> After running the code variable bacon contain value 22. \n",
    "-> If there is following code\n",
    "    \n",
    "    bacon = 22\n",
    "    bacon = bacon+1\n",
    "    \n",
    "    then bacon contain value 23. "
   ]
  },
  {
   "cell_type": "raw",
   "id": "f1e9b042",
   "metadata": {},
   "source": [
    "7. What should the values of the following two terms be?\n",
    "    'spam'+'spamspam'\n",
    "    'spam'*3"
   ]
  },
  {
   "cell_type": "code",
   "execution_count": null,
   "id": "e1d5bf33",
   "metadata": {},
   "outputs": [],
   "source": [
    "-> 'spam'+'spamspam' It will concat two string 'spam' and 'spamspam' so output is 'spamspamspam'\n",
    "\n",
    "-> 'spam' * 3 It is interpreted as three-times 'spam' so output is 'spamspamspam'"
   ]
  },
  {
   "cell_type": "raw",
   "id": "b230df2f",
   "metadata": {},
   "source": [
    "8. Why is eggs a valid variable name while 100 is invalid?"
   ]
  },
  {
   "cell_type": "code",
   "execution_count": null,
   "id": "61468517",
   "metadata": {},
   "outputs": [],
   "source": [
    "Rule for variable name:\n",
    "    \n",
    "-> A variable name must start with alphabetic character or the underscore character\n",
    "-> A variable name cannot start with a number\n",
    "-> A variable name can only contain alpha-numeric characters and underscores\n",
    "\n",
    "-> In eggs it contain only alphabetic character so it is valid.\n",
    "-> In 100 it start with numeric chracter so it is not valid."
   ]
  },
  {
   "cell_type": "raw",
   "id": "fb1a08fe",
   "metadata": {},
   "source": [
    "9. What three functions can be used to get the integer, floating-point number, or string version of a value?"
   ]
  },
  {
   "cell_type": "code",
   "execution_count": null,
   "id": "86aab209",
   "metadata": {},
   "outputs": [],
   "source": [
    "-> To get integer int()\n",
    "-> To get floating-point number float()\n",
    "-> To get string str()"
   ]
  },
  {
   "cell_type": "raw",
   "id": "51fe6a0a",
   "metadata": {},
   "source": [
    "10. Why does this expression cause an error? How can you fix it?\n",
    "    'I have eaten ' + 99 + ' burritos'   "
   ]
  },
  {
   "cell_type": "code",
   "execution_count": null,
   "id": "ac204962",
   "metadata": {},
   "outputs": [],
   "source": [
    "-> It will raise TypeError because we cannot concat string (not with integer) with string.\n",
    "\n",
    "->To fix this error :\n",
    "    \n",
    "    1. 'I have eaten ' + '99' + ' burritos'\n",
    "    \n",
    "    2. 'I have eaten ' + str(99) + ' burritos'\n",
    "    \n",
    "    both has same output : 'I have eaten 99 burritos', we can fix these in both way."
   ]
  }
 ],
 "metadata": {
  "celltoolbar": "Raw Cell Format",
  "kernelspec": {
   "display_name": "Python 3 (ipykernel)",
   "language": "python",
   "name": "python3"
  },
  "language_info": {
   "codemirror_mode": {
    "name": "ipython",
    "version": 3
   },
   "file_extension": ".py",
   "mimetype": "text/x-python",
   "name": "python",
   "nbconvert_exporter": "python",
   "pygments_lexer": "ipython3",
   "version": "3.9.7"
  }
 },
 "nbformat": 4,
 "nbformat_minor": 5
}
