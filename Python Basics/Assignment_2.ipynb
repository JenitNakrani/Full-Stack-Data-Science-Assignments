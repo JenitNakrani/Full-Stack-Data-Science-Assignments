{
 "cells": [
  {
   "cell_type": "markdown",
   "id": "b3a3c74e",
   "metadata": {},
   "source": [
    "1.What are the two values of the Boolean data type? How do you write them?"
   ]
  },
  {
   "cell_type": "code",
   "execution_count": null,
   "id": "ceae7153",
   "metadata": {},
   "outputs": [],
   "source": [
    "Ans:- True and False,using capital T and F."
   ]
  },
  {
   "cell_type": "code",
   "execution_count": 1,
   "id": "8351581f",
   "metadata": {},
   "outputs": [
    {
     "name": "stdout",
     "output_type": "stream",
     "text": [
      "True\n",
      "False\n"
     ]
    }
   ],
   "source": [
    "#Eg:-\n",
    "\n",
    "a = True\n",
    "b = False\n",
    "print(a)\n",
    "print(b)"
   ]
  },
  {
   "cell_type": "markdown",
   "id": "cba52009",
   "metadata": {},
   "source": [
    "2.What are the three different types of Boolean operators?"
   ]
  },
  {
   "cell_type": "code",
   "execution_count": null,
   "id": "b09c3a8c",
   "metadata": {},
   "outputs": [],
   "source": [
    "Ans:- and,or,not"
   ]
  },
  {
   "cell_type": "markdown",
   "id": "7f2017b5",
   "metadata": {},
   "source": [
    "3.Make a list of each Boolean operator's truth tables (i.e. every possible combination of Boolean values for the operator and what it evaluate )."
   ]
  },
  {
   "cell_type": "code",
   "execution_count": null,
   "id": "a7d4c1fc",
   "metadata": {},
   "outputs": [],
   "source": [
    "Ans:-\n",
    "    \n",
    "Truth table:-\n",
    "\n",
    "-> and\n",
    "\n",
    "    True and True = True\n",
    "    True and False = False\n",
    "    False and True = False\n",
    "    False and False = False\n",
    "\n",
    "-> or \n",
    "\n",
    "    True or True = True\n",
    "    True or False = True\n",
    "    False or True = True\n",
    "    False or False = False\n",
    "\n",
    "-> not\n",
    "\n",
    "    not True = False\n",
    "    not False = True"
   ]
  },
  {
   "cell_type": "markdown",
   "id": "5edc0f7b",
   "metadata": {},
   "source": [
    "4.What are the values of the following expressions?\n",
    "    \n",
    "    (5 > 4) and (3 == 5)\n",
    "    \n",
    "    not (5 > 4)\n",
    "    \n",
    "    (5 > 4) or (3 == 5)\n",
    "\n",
    "    not ((5 > 4) or (3 == 5))\n",
    "\n",
    "    (True and True) and (True == False)\n",
    "\n",
    "    (not False) or (not True)"
   ]
  },
  {
   "cell_type": "code",
   "execution_count": null,
   "id": "b15a1d6a",
   "metadata": {},
   "outputs": [],
   "source": [
    "Ans:-\n",
    "    \n",
    "    (5 > 4) and (3 == 5)  -> False\n",
    "    \n",
    "    not (5 > 4)     -> False\n",
    "    \n",
    "    (5 > 4) or (3 == 5)   -> True\n",
    "    \n",
    "    not ((5 > 4) or (3 == 5))   -> False\n",
    "\n",
    "    (True and True) and (True == False)  -> False\n",
    "\n",
    "    (not False) or (not True)    -> True"
   ]
  },
  {
   "cell_type": "markdown",
   "id": "4af31180",
   "metadata": {},
   "source": [
    "5.What are the six comparison operators?"
   ]
  },
  {
   "cell_type": "code",
   "execution_count": null,
   "id": "020dd043",
   "metadata": {},
   "outputs": [],
   "source": [
    "Ans:-\n",
    "    \n",
    "    ==\n",
    "    !=\n",
    "    <\n",
    "    >\n",
    "    <=\n",
    "    >="
   ]
  },
  {
   "cell_type": "markdown",
   "id": "f6272b6f",
   "metadata": {},
   "source": [
    "6.How do you tell the difference between the equal to and assignment operators?Describe a condition and when you would use one."
   ]
  },
  {
   "cell_type": "code",
   "execution_count": null,
   "id": "acc00c67",
   "metadata": {},
   "outputs": [],
   "source": [
    "Ans:-\n",
    "    == is the equal to operator that compares two values and evaluates to a Boolean\n",
    "    ex:-\n",
    "         10 == 10  -> True\n",
    "         5 == 3    -> False\n",
    "    \n",
    "    while = is the assignment operator that stores a value in a variable\n",
    "    ex:-\n",
    "        x = 10"
   ]
  },
  {
   "cell_type": "code",
   "execution_count": 3,
   "id": "a4f39eb7",
   "metadata": {},
   "outputs": [
    {
     "name": "stdout",
     "output_type": "stream",
     "text": [
      "True\n",
      "x =  10\n"
     ]
    }
   ],
   "source": [
    "#eg.\n",
    "\n",
    "# Equal To Comparison Operator\n",
    "\n",
    "if(5 == 5):\n",
    "    print(\"True\")\n",
    "else:\n",
    "    print(\"False\")\n",
    "\n",
    "# Assignment operator\n",
    "x=10 # here we have used assignment operator(=) to assign value of x which is 10\n",
    "print(\"x = \",x)"
   ]
  },
  {
   "cell_type": "markdown",
   "id": "efe813d5",
   "metadata": {},
   "source": [
    "7.Identify the three blocks in this code:"
   ]
  },
  {
   "cell_type": "code",
   "execution_count": 6,
   "id": "eeca352c",
   "metadata": {},
   "outputs": [
    {
     "name": "stdout",
     "output_type": "stream",
     "text": [
      "ham\n",
      "spam\n",
      "spam\n"
     ]
    }
   ],
   "source": [
    "# Ans:-\n",
    "\n",
    "spam = 0\n",
    "\n",
    "if spam == 10:\n",
    "    print('eggs') # First Block -> Condition False\n",
    "if spam > 5:\n",
    "    print('bacon') # Second Block -> Condition False\n",
    "else:\n",
    "    print('ham') # Third Block -> Condition True\n",
    "    print('spam')\n",
    "    print('spam')"
   ]
  },
  {
   "cell_type": "markdown",
   "id": "42ba21d1",
   "metadata": {},
   "source": [
    "8.Write code that prints Hello if 1 is stored in spam, prints Howdy if 2 is stored in spam, and prints Greetings! if anything else is stored in spam."
   ]
  },
  {
   "cell_type": "code",
   "execution_count": 7,
   "id": "688b3b24",
   "metadata": {},
   "outputs": [
    {
     "name": "stdout",
     "output_type": "stream",
     "text": [
      "Howdy\n"
     ]
    }
   ],
   "source": [
    "# Ans:-\n",
    "\n",
    "spam = 2\n",
    "if spam == 1:\n",
    "    print('Hello')\n",
    "elif spam == 2:\n",
    "    print('Howdy')\n",
    "else:\n",
    "    print('Greetings!')"
   ]
  },
  {
   "cell_type": "markdown",
   "id": "342da42c",
   "metadata": {},
   "source": [
    "9.If your programme is stuck in an endless loop, what keys you’ll press?"
   ]
  },
  {
   "cell_type": "code",
   "execution_count": null,
   "id": "f7a1879e",
   "metadata": {},
   "outputs": [],
   "source": [
    "Ans:-\n",
    "    ctrl + c"
   ]
  },
  {
   "cell_type": "markdown",
   "id": "8e05ea9b",
   "metadata": {},
   "source": [
    "10.How can you tell the difference between break and continue?"
   ]
  },
  {
   "cell_type": "code",
   "execution_count": null,
   "id": "92516754",
   "metadata": {},
   "outputs": [],
   "source": [
    "Ans:-\n",
    "    The break statement in Python terminates the current loop and resumes execution at the next statement.\n",
    "    continue statement is opposite to that of break statement, instead of terminating the loop, it forces to execute the next iteration of the loop."
   ]
  },
  {
   "cell_type": "code",
   "execution_count": 8,
   "id": "845f570f",
   "metadata": {},
   "outputs": [
    {
     "name": "stdout",
     "output_type": "stream",
     "text": [
      "0\n",
      "1\n",
      "2\n",
      "3\n",
      "4\n",
      "5\n",
      "******************\n",
      "0\n",
      "1\n",
      "2\n",
      "3\n",
      "4\n",
      "5\n",
      "7\n",
      "8\n"
     ]
    }
   ],
   "source": [
    "# Eg:-\n",
    "\n",
    "# use of break\n",
    "for i in range(9):\n",
    "    if(i==6):\n",
    "        break\n",
    "    print(i)\n",
    "    \n",
    "print(\"******************\")\n",
    "\n",
    "#use of  continue\n",
    "for i in range(9):\n",
    "    if(i==6):\n",
    "        continue\n",
    "    print(i)\n",
    "    "
   ]
  },
  {
   "cell_type": "markdown",
   "id": "25317cd9",
   "metadata": {},
   "source": [
    "11.In a for loop, what is the difference between range(10), range(0, 10), and range(0, 10, 1)?"
   ]
  },
  {
   "cell_type": "code",
   "execution_count": null,
   "id": "aa4183f8",
   "metadata": {},
   "outputs": [],
   "source": [
    "Ans:-\n",
    "    All three has same output.\n",
    "    \n",
    "    1. range(10)     -> byDefault lower bound is 0 so it will print number from 0 to 10(excluding 10),by default stepSize is 1.\n",
    "    2. range(0,10)   -> It will also print from 0 to 10(excluding 10), by default stepSize is 1.\n",
    "    3. range(0,10,1) -> It will print number from 0 to 10 (excluding 10) with stepSize 1.\n",
    "    \n",
    "    Output:-\n",
    "        0\n",
    "        1\n",
    "        2\n",
    "        3\n",
    "        4\n",
    "        5\n",
    "        6\n",
    "        7\n",
    "        8\n",
    "        9"
   ]
  },
  {
   "cell_type": "code",
   "execution_count": null,
   "id": "38c9ddc7",
   "metadata": {},
   "outputs": [
    {
     "name": "stdout",
     "output_type": "stream",
     "text": [
      "0\n",
      "1\n",
      "2\n",
      "3\n",
      "4\n",
      "5\n",
      "6\n",
      "7\n",
      "8\n",
      "9\n",
      "***************************\n",
      "0\n",
      "1\n",
      "2\n",
      "3\n",
      "4\n",
      "5\n",
      "6\n",
      "7\n",
      "8\n",
      "9\n",
      "***************************\n",
      "0\n",
      "1\n",
      "2\n",
      "3\n",
      "4\n",
      "5\n",
      "6\n",
      "7\n",
      "8\n",
      "9\n"
     ]
    }
   ],
   "source": [
    "# Eg:\n",
    "for i in range(10):\n",
    "    print(i)\n",
    "\n",
    "print(\"***************************\")\n",
    "\n",
    "for i in range(0,10):\n",
    "    print(i)\n",
    "\n",
    "print(\"***************************\")\n",
    "\n",
    "for i in range(0,10,1):\n",
    "    print(i)\n"
   ]
  },
  {
   "cell_type": "markdown",
   "id": "7407e994",
   "metadata": {},
   "source": [
    "12.Write a short program that prints the numbers 1 to 10 using a for loop. Then write an equivalent program that prints the numbers 1 to 10 using a while loop."
   ]
  },
  {
   "cell_type": "code",
   "execution_count": 13,
   "id": "9ed73678",
   "metadata": {},
   "outputs": [
    {
     "name": "stdout",
     "output_type": "stream",
     "text": [
      "1\n",
      "2\n",
      "3\n",
      "4\n",
      "5\n",
      "6\n",
      "7\n",
      "8\n",
      "9\n",
      "10\n",
      "************\n",
      "1\n",
      "2\n",
      "3\n",
      "4\n",
      "5\n",
      "6\n",
      "7\n",
      "8\n",
      "9\n",
      "10\n"
     ]
    }
   ],
   "source": [
    "# Ans:-\n",
    "\n",
    "# using for loop  \n",
    "for i in range(1,11):\n",
    "    print(i)\n",
    "\n",
    "print(\"************\")\n",
    "\n",
    "i = 1\n",
    "while i < 11:\n",
    "    print(i)\n",
    "    i += 1"
   ]
  },
  {
   "cell_type": "markdown",
   "id": "4cd5fb1c",
   "metadata": {},
   "source": [
    "13.If you had a function named bacon() inside a module named spam, how would you call it after importing spam?"
   ]
  },
  {
   "cell_type": "code",
   "execution_count": null,
   "id": "7398f283",
   "metadata": {},
   "outputs": [],
   "source": [
    "Ans:-\n",
    "    spam.bacon()"
   ]
  }
 ],
 "metadata": {
  "kernelspec": {
   "display_name": "Python 3.10.0 64-bit",
   "language": "python",
   "name": "python3"
  },
  "language_info": {
   "codemirror_mode": {
    "name": "ipython",
    "version": 3
   },
   "file_extension": ".py",
   "mimetype": "text/x-python",
   "name": "python",
   "nbconvert_exporter": "python",
   "pygments_lexer": "ipython3",
   "version": "3.10.0"
  },
  "vscode": {
   "interpreter": {
    "hash": "079a582a17be8b88badc23962657892badf3004b4cc2f3c06e64c84c1176f10e"
   }
  }
 },
 "nbformat": 4,
 "nbformat_minor": 5
}
